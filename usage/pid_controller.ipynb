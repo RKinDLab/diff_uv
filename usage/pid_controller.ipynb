{
 "cells": [
  {
   "cell_type": "code",
   "execution_count": 1,
   "metadata": {},
   "outputs": [],
   "source": [
    "%run forward_dynamics_example.ipynb"
   ]
  },
  {
   "cell_type": "markdown",
   "metadata": {},
   "source": [
    "# MIMO Nonlinear PID Control Simulation"
   ]
  },
  {
   "cell_type": "code",
   "execution_count": 2,
   "metadata": {},
   "outputs": [],
   "source": [
    "gn = uv_body.body_restoring_vector()\n",
    "ne = n - nd\n",
    "\n",
    "buffer_sum = sum_e_buffer + ne*dt\n",
    "\n",
    "pid = -diag(Kp)@ne - diag(Kd)@(J_@x_nb) - diag(Ki)@buffer_sum\n",
    "\n",
    "pid_control = gn + J_.T@pid"
   ]
  },
  {
   "cell_type": "code",
   "execution_count": 3,
   "metadata": {},
   "outputs": [],
   "source": [
    "pd_control_F = Function('pid_control', [W, B, r_g, r_b, Kp, Ki, Kd, sum_e_buffer, n, x_nb, nd, dt], [pid_control, buffer_sum])\n",
    "pd_control_F_simpli = pd_control_F(ps.W, ps.B, ps.rg, ps.rb, Kp, Ki, Kd, sum_e_buffer, vertcat(x,y,z ,q2euler(uq)), x_nb, nd, dt)"
   ]
  },
  {
   "cell_type": "code",
   "execution_count": 4,
   "metadata": {},
   "outputs": [
    {
     "data": {
      "text/plain": [
       "(DM([0, -0, 1.985, 0, -0, 0]), DM([0, 0, 0, 0, 0, 0]))"
      ]
     },
     "execution_count": 4,
     "metadata": {},
     "output_type": "execute_result"
    }
   ],
   "source": [
    "pd_controller = Function('pid_control_sim', [Kp, Ki, Kd, sum_e_buffer, dt, xS0, nd], [pd_control_F_simpli[0], pd_control_F_simpli[1]])\n",
    "\n",
    "x0 = np.array([0.0, 0.0, 0.0, 1.0, 0, 0, 0, 0, 0, 0, 0, 0, 0]) #x y z w xq yq zq u v w p q r # initial conditions\n",
    "xf = np.array([0.0, 0.0, 0.0, 0.0, 0.0, 0.0]) #x y z r p y # goal\n",
    "pd_controller(np.array([1,1,1,1,1,1]), np.array([0,0,0,0,0,1]), np.array([2,2,2,2,2,2]), np.array([0,0,0,0,0,0]) ,0.05, x0, xf)"
   ]
  },
  {
   "cell_type": "code",
   "execution_count": null,
   "metadata": {},
   "outputs": [],
   "source": []
  },
  {
   "cell_type": "code",
   "execution_count": null,
   "metadata": {},
   "outputs": [],
   "source": []
  }
 ],
 "metadata": {
  "kernelspec": {
   "display_name": ".venv",
   "language": "python",
   "name": "python3"
  },
  "language_info": {
   "codemirror_mode": {
    "name": "ipython",
    "version": 3
   },
   "file_extension": ".py",
   "mimetype": "text/x-python",
   "name": "python",
   "nbconvert_exporter": "python",
   "pygments_lexer": "ipython3",
   "version": "3.10.12"
  }
 },
 "nbformat": 4,
 "nbformat_minor": 2
}
