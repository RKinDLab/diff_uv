{
 "cells": [
  {
   "cell_type": "code",
   "execution_count": 1,
   "metadata": {},
   "outputs": [],
   "source": [
    "%run forward_dynamics_example.ipynb"
   ]
  },
  {
   "cell_type": "markdown",
   "metadata": {},
   "source": [
    "# MIMO Nonlinear PID Position Control Simulation"
   ]
  },
  {
   "cell_type": "code",
   "execution_count": 2,
   "metadata": {},
   "outputs": [],
   "source": [
    "gn = uv_body.body_restoring_vector()\n",
    "ne = n - nd\n",
    "\n",
    "buffer_sum = sum_e_buffer + ne*dt\n",
    "\n",
    "pid = -diag(Kp)@ne - diag(Kd)@(J_@x_nb) - diag(Ki)@buffer_sum\n",
    "\n",
    "pid_control = gn + J_.T@pid"
   ]
  },
  {
   "cell_type": "code",
   "execution_count": 3,
   "metadata": {},
   "outputs": [],
   "source": [
    "pd_control_F = Function('pid_control', [W, B, r_g, r_b, Kp, Ki, Kd, sum_e_buffer, n, x_nb, nd, dt], [pid_control, buffer_sum])\n",
    "pd_control_F_simpli = pd_control_F(ps.W, ps.B, ps.rg, ps.rb, Kp, Ki, Kd, sum_e_buffer, vertcat(x,y,z ,q2euler(uq)), x_nb, nd, dt)"
   ]
  },
  {
   "cell_type": "code",
   "execution_count": 4,
   "metadata": {},
   "outputs": [
    {
     "data": {
      "text/plain": [
       "(DM([0, -0, 9.485, 0, -0, 0]), DM([0, 0, -0.100455, 0, 0, 0]))"
      ]
     },
     "execution_count": 4,
     "metadata": {},
     "output_type": "execute_result"
    }
   ],
   "source": [
    "pd_controller = Function('pidC', [Kp, Ki, Kd, sum_e_buffer, dt, xS0, nd], [pd_control_F_simpli[0], pd_control_F_simpli[1]])\n",
    "\n",
    "x0 = np.array([0.0, 0.0, 0.0, 1.0, 0, 0, 0, 0, 0, 0, 0, 0, 0]) #x y z w xq yq zq u v w p q r # initial conditions\n",
    "xf = np.array([0.0, 0.0, 15.0, 0.0, 0.0, 0.0]) #x y z r p y # goal\n",
    "kp_ = np.array([0.5, 0.5, 0.5, 0.5, 0.5, 0.5])\n",
    "ki_ = np.array([0, 0, 0, 0, 0, 0])\n",
    "kd_ = np.array([2,2,2,2,2,2])\n",
    "sebuffer_ = np.array([0,0,0,0,0,0])\n",
    "dt_ = 0.006697\n",
    "pd_controller(kp_, ki_, kd_, sebuffer_ , dt_, x0, xf)"
   ]
  },
  {
   "cell_type": "code",
   "execution_count": 5,
   "metadata": {},
   "outputs": [
    {
     "data": {
      "text/plain": [
       "0"
      ]
     },
     "execution_count": 5,
     "metadata": {},
     "output_type": "execute_result"
    }
   ],
   "source": [
    "# c , cpp or matlab code generation for forward dynamics\n",
    "pd_controller.generate(\"PdController.c\")\n",
    "os.system(f\"gcc -fPIC -shared PdController.c -o libPd.so\")"
   ]
  },
  {
   "cell_type": "markdown",
   "metadata": {},
   "source": [
    "# MIMO Nonlinear PID Velocity Control Simulation"
   ]
  },
  {
   "cell_type": "code",
   "execution_count": 6,
   "metadata": {},
   "outputs": [],
   "source": [
    "ve = x_nb - vb_d\n",
    "\n",
    "x_nb_prev = xS0_prev[7:]\n",
    "\n",
    "dve = (x_nb_prev - x_nb)/dt\n",
    "\n",
    "Ive = sum_e_buffer + ve*dt\n",
    "\n",
    "v_pid = -diag(Kp)@ve - diag(Kd)@dve - diag(Ki)@Ive\n",
    "\n",
    "v_pid_control = gn + v_pid"
   ]
  },
  {
   "cell_type": "code",
   "execution_count": 7,
   "metadata": {},
   "outputs": [],
   "source": [
    "vpd_control_F = Function('v_pid_control', [W, B, r_g, r_b, Kp, Ki, Kd, sum_e_buffer, n, x_nb, xS0_prev, vb_d, dt], [v_pid_control, Ive])\n",
    "vpd_control_F_simpli = vpd_control_F(ps.W, ps.B, ps.rg, ps.rb, Kp, Ki, Kd, sum_e_buffer, vertcat(x,y,z ,q2euler(uq)),x_nb, xS0_prev, vb_d, dt)"
   ]
  },
  {
   "cell_type": "code",
   "execution_count": 8,
   "metadata": {},
   "outputs": [
    {
     "data": {
      "text/plain": [
       "(DM([0, -0, 2.235, 0, -0, -0]), DM([0, 0, -0.0033485, 0, 0, 0]))"
      ]
     },
     "execution_count": 8,
     "metadata": {},
     "output_type": "execute_result"
    }
   ],
   "source": [
    "vpd_controller = Function('vpidC', [Kp, Ki, Kd, sum_e_buffer, dt, xS0, xS0_prev, vb_d], [vpd_control_F_simpli[0], vpd_control_F_simpli[1]])\n",
    "\n",
    "x0 = np.array([0.0, 0.0, 0.0, 1.0, 0, 0, 0, 0, 0, 0, 0, 0, 0]) #x y z w xq yq zq u v w p q r # initial conditions\n",
    "xprev = np.array([0.0, 0.0, 0.0, 1.0, 0, 0, 0, 0, 0, 0, 0, 0, 0]) #x y z w xq yq zq u v w p q r # initial conditions\n",
    "vf = np.array([0.0, 0.0, 0.5, 0.0, 0.0, 0.0]) #x y z r p y # goal\n",
    "kp_ = np.array([0.5, 0.5, 0.5, 0.5, 0.5, 0.5])\n",
    "ki_ = np.array([0, 0, 0, 0, 0, 0])\n",
    "kd_ = np.array([2,2,2,2,2,2])\n",
    "sebuffer_ = np.array([0,0,0,0,0,0])\n",
    "dt_ = 0.006697\n",
    "vpd_controller(kp_, ki_, kd_, sebuffer_ , dt_, x0, xprev, vf)"
   ]
  },
  {
   "cell_type": "code",
   "execution_count": 9,
   "metadata": {},
   "outputs": [
    {
     "data": {
      "text/plain": [
       "0"
      ]
     },
     "execution_count": 9,
     "metadata": {},
     "output_type": "execute_result"
    }
   ],
   "source": [
    "# c , cpp or matlab code generation for forward dynamics\n",
    "vpd_controller.generate(\"vPdController.c\")\n",
    "os.system(f\"gcc -fPIC -shared vPdController.c -o libVPd.so\")"
   ]
  },
  {
   "cell_type": "code",
   "execution_count": null,
   "metadata": {},
   "outputs": [],
   "source": []
  }
 ],
 "metadata": {
  "kernelspec": {
   "display_name": ".venv",
   "language": "python",
   "name": "python3"
  },
  "language_info": {
   "codemirror_mode": {
    "name": "ipython",
    "version": 3
   },
   "file_extension": ".py",
   "mimetype": "text/x-python",
   "name": "python",
   "nbconvert_exporter": "python",
   "pygments_lexer": "ipython3",
   "version": "3.9.6"
  }
 },
 "nbformat": 4,
 "nbformat_minor": 2
}
