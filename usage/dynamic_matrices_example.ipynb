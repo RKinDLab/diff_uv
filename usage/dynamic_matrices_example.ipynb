{
 "cells": [
  {
   "cell_type": "code",
   "execution_count": 1,
   "metadata": {},
   "outputs": [],
   "source": [
    "%run base.ipynb"
   ]
  },
  {
   "cell_type": "markdown",
   "metadata": {},
   "source": [
    "<h1>System Inertia Matrix example</h1>"
   ]
  },
  {
   "cell_type": "code",
   "execution_count": 2,
   "metadata": {},
   "outputs": [],
   "source": [
    "inertia_mat = uv_body.body_inertia_matrix()\n",
    "M_func = Function('M_b', [m, I_o, z_g, decoupled_added_m, coupled_added_m], [inertia_mat]) # for numerical & symbolic use"
   ]
  },
  {
   "cell_type": "code",
   "execution_count": 3,
   "metadata": {},
   "outputs": [
    {
     "data": {
      "text/plain": [
       "array([[17.  ,  0.  ,  0.  ,  0.  ,  0.23,  0.  ],\n",
       "       [ 0.  , 24.2 ,  0.  , -0.23,  0.  ,  0.  ],\n",
       "       [ 0.  ,  0.  , 26.07,  0.  ,  0.  ,  0.  ],\n",
       "       [ 0.  , -0.23,  0.  ,  0.28,  0.  ,  0.  ],\n",
       "       [ 0.23,  0.  ,  0.  ,  0.  ,  0.28,  0.  ],\n",
       "       [ 0.  ,  0.  ,  0.  ,  0.  ,  0.  ,  0.28]])"
      ]
     },
     "execution_count": 3,
     "metadata": {},
     "output_type": "execute_result"
    }
   ],
   "source": [
    "# example usage of inertia mat\n",
    "M_mat = np.array(M_func(blue.m, blue.Io, blue.rg[2], blue.added_m, blue.coupl_added_m))\n",
    "M_mat"
   ]
  },
  {
   "cell_type": "code",
   "execution_count": 4,
   "metadata": {},
   "outputs": [
    {
     "data": {
      "text/plain": [
       "array([[ True,  True,  True,  True,  True,  True],\n",
       "       [ True,  True,  True,  True,  True,  True],\n",
       "       [ True,  True,  True,  True,  True,  True],\n",
       "       [ True,  True,  True,  True,  True,  True],\n",
       "       [ True,  True,  True,  True,  True,  True],\n",
       "       [ True,  True,  True,  True,  True,  True]])"
      ]
     },
     "execution_count": 4,
     "metadata": {},
     "output_type": "execute_result"
    }
   ],
   "source": [
    "M_mat.T == M_mat"
   ]
  },
  {
   "cell_type": "code",
   "execution_count": 5,
   "metadata": {},
   "outputs": [],
   "source": [
    "inertia_ned_mat = uv_ned.ned_euler_inertia_matrix()\n",
    "Onb = vertcat(thet, phi, psi)\n",
    "M_ned_func = Function('M_ned', [m, I_o, z_g, Onb, decoupled_added_m, coupled_added_m], [inertia_ned_mat]) # for numerical & symbolic use"
   ]
  },
  {
   "cell_type": "code",
   "execution_count": 6,
   "metadata": {},
   "outputs": [
    {
     "data": {
      "text/plain": [
       "array([[ 1.72303360e+01, -7.45090577e-01,  1.18405662e+00,\n",
       "         1.76115723e-02,  2.23648786e-01,  3.57838329e-02],\n",
       "       [-7.45090577e-01,  2.41747103e+01, -1.91929773e-01,\n",
       "        -2.26055609e-01,  2.24397276e-02,  3.31239544e-02],\n",
       "       [ 1.18405662e+00, -1.91929773e-01,  2.58649536e+01,\n",
       "        -3.85835972e-02, -2.93860503e-02,  0.00000000e+00],\n",
       "       [ 1.76115723e-02, -2.26055609e-01, -3.85835972e-02,\n",
       "         2.80000000e-01,  0.00000000e+00, -3.62975599e-02],\n",
       "       [ 2.23648786e-01,  2.24397276e-02, -2.93860503e-02,\n",
       "         0.00000000e+00,  2.80000000e-01,  0.00000000e+00],\n",
       "       [ 3.57838329e-02,  3.31239544e-02,  0.00000000e+00,\n",
       "        -3.62975599e-02,  0.00000000e+00,  2.80000000e-01]])"
      ]
     },
     "execution_count": 6,
     "metadata": {},
     "output_type": "execute_result"
    }
   ],
   "source": [
    "# example usage of inertia mat in ned\n",
    "Onb_v = np.array([0.13,0.17,0.1])\n",
    "np.array(M_ned_func(blue.m, blue.Io, blue.rg[2], Onb_v,  blue.added_m, blue.coupl_added_m))"
   ]
  },
  {
   "cell_type": "markdown",
   "metadata": {},
   "source": [
    "<h1>Coriolis Matrix example</h1>"
   ]
  },
  {
   "cell_type": "code",
   "execution_count": 7,
   "metadata": {},
   "outputs": [],
   "source": [
    "coriolis_mat = uv_body.body_coriolis_centripetal_matrix()\n",
    "C_func = Function('C_b', [m, I_o, z_g, decoupled_added_m, coupled_added_m, x_nb, v_c], [coriolis_mat]) # for numerical & symbolic use"
   ]
  },
  {
   "cell_type": "code",
   "execution_count": 8,
   "metadata": {},
   "outputs": [],
   "source": [
    "C = np.array(C_func(blue.m, blue.Io, blue.rg[2], blue.added_m, blue.coupl_added_m, np.array([0.1 ,0.2,0.1,0.1,0.1,0.5]), \n",
    "                    np.array([0.0 ,0.0,0.0,0.0,0.0,0.0])))"
   ]
  },
  {
   "cell_type": "code",
   "execution_count": 9,
   "metadata": {},
   "outputs": [
    {
     "data": {
      "text/plain": [
       "array([[ True,  True,  True,  True,  True,  True],\n",
       "       [ True,  True,  True,  True,  True,  True],\n",
       "       [ True,  True,  True,  True,  True,  True],\n",
       "       [ True,  True,  True,  True,  True,  True],\n",
       "       [ True,  True,  True,  True,  True,  True],\n",
       "       [ True,  True,  True,  True,  True,  True]])"
      ]
     },
     "execution_count": 9,
     "metadata": {},
     "output_type": "execute_result"
    }
   ],
   "source": [
    "-C.T == C"
   ]
  },
  {
   "cell_type": "markdown",
   "metadata": {},
   "source": [
    "<h1>Inverse Dynamics for featherson dynamics </h1>"
   ]
  },
  {
   "cell_type": "code",
   "execution_count": 10,
   "metadata": {},
   "outputs": [],
   "source": [
    "uv_id = uv_body.body_inverse_dynamics()\n",
    "uv_id_plucker = vertcat(uv_id[3:], uv_id[:3]) # base vehicle body force to plucker basis used by featherson\n",
    "\n",
    "x_nb_plucka = vertcat(x_nb[3:], x_nb[:3])\n",
    "dx_nb_plucka = vertcat(dx_nb[3:], dx_nb[:3])\n",
    "f_rhs_func = Function('UV_id', [z, eul, x_nb_plucka, dx_nb_plucka, sim_p], [uv_id_plucker]) # for numerical & symbolic use\n",
    "f_rhs_func.save('float_base.casadi')"
   ]
  },
  {
   "cell_type": "markdown",
   "metadata": {},
   "source": [
    "<h1>Hacky method to get Inertia, H and bias Froce, B from inverse dynamics for featherson dynamics </h1>"
   ]
  },
  {
   "cell_type": "code",
   "execution_count": 11,
   "metadata": {},
   "outputs": [
    {
     "data": {
      "text/plain": [
       "(6, 1)"
      ]
     },
     "execution_count": 11,
     "metadata": {},
     "output_type": "execute_result"
    }
   ],
   "source": [
    "# bias force or (coriolis plus restoring force)\n",
    "B_F = f_rhs_func(blue.below_surface, eul, x_nb_plucka, [0,0,0,0,0,0], blue.sim_params) \n",
    "B_F.size()"
   ]
  },
  {
   "cell_type": "code",
   "execution_count": 12,
   "metadata": {},
   "outputs": [],
   "source": [
    "B_F_func = Function('B_F', [x_nb_plucka, eul], [B_F]) # for numerical & symbolic use"
   ]
  },
  {
   "cell_type": "code",
   "execution_count": 13,
   "metadata": {},
   "outputs": [
    {
     "data": {
      "text/plain": [
       "DM([0, 0, 0, 0, 0, 1.985])"
      ]
     },
     "execution_count": 13,
     "metadata": {},
     "output_type": "execute_result"
    }
   ],
   "source": [
    "B_F_func([0,0,0,0,0,0],[0,0,0])"
   ]
  },
  {
   "cell_type": "code",
   "execution_count": 14,
   "metadata": {},
   "outputs": [
    {
     "data": {
      "text/plain": [
       "DM([0, 0, 0, 0, 0, 1.985])"
      ]
     },
     "execution_count": 14,
     "metadata": {},
     "output_type": "execute_result"
    }
   ],
   "source": [
    "# validate B_F\n",
    "B_full = uv_body.body_coriolis_centripetal_matrix()@v_r + uv_body.body_damping_matrix()@(v_r) + uv_body.body_restoring_vector()\n",
    "B_full = vertcat(B_full[3:], B_full[:3]) # base vehicle body force to plucker basis used by featherson\n",
    "B_full_func = Function('B_full', [z, eul, x_nb, dx_nb, sim_p], [B_full])\n",
    "\n",
    "B_simpl = B_full_func(blue.below_surface, eul, x_nb, dx_nb, blue.sim_params)\n",
    "B_simpl_func = Function('B_simpl', [eul, x_nb_plucka, dx_nb_plucka], [B_simpl]) # for numerical & symbolic use\n",
    "B_simpl_func([0,0,0],[0,0,0,0,0,0],[0,0,0,0,0,0])"
   ]
  },
  {
   "cell_type": "code",
   "execution_count": 15,
   "metadata": {},
   "outputs": [],
   "source": [
    "# inertia matrix\n",
    "tau = f_rhs_func(blue.below_surface, eul, x_nb_plucka, dx_nb_plucka, blue.sim_params)\n",
    "\n",
    "n = x_nb_plucka.size1()\n",
    "ID_delta = tau - B_F\n",
    "H = SX(n, n)\n",
    "for i in range(0, n):\n",
    "    d_a = [0]*n\n",
    "    d_a[i] = 1\n",
    "    H[:, i] = substitute(ID_delta, dx_nb_plucka, d_a)\n",
    "H_func = Function('H', [eul, x_nb_plucka], [H]) # for numerical & symbolic use"
   ]
  },
  {
   "cell_type": "code",
   "execution_count": 16,
   "metadata": {},
   "outputs": [
    {
     "name": "stdout",
     "output_type": "stream",
     "text": [
      "[[ 0.28  0.    0.    0.   -0.23  0.  ]\n",
      " [ 0.    0.28  0.    0.23  0.    0.  ]\n",
      " [ 0.    0.    0.28  0.    0.    0.  ]\n",
      " [ 0.    0.23  0.   17.    0.    0.  ]\n",
      " [-0.23  0.    0.    0.   24.2   0.  ]\n",
      " [ 0.    0.    0.    0.    0.   26.07]]\n"
     ]
    },
    {
     "data": {
      "text/plain": [
       "array([[ True,  True,  True,  True,  True,  True],\n",
       "       [ True,  True,  True,  True,  True,  True],\n",
       "       [ True,  True,  True,  True,  True,  True],\n",
       "       [ True,  True,  True,  True,  True,  True],\n",
       "       [ True,  True,  True,  True,  True,  True],\n",
       "       [ True,  True,  True,  True,  True,  True]])"
      ]
     },
     "execution_count": 16,
     "metadata": {},
     "output_type": "execute_result"
    }
   ],
   "source": [
    "H_mat = H_func([0,0,0], [0,0,0,0,0,0])\n",
    "print(H_mat.full())\n",
    "\n",
    "# validating matrix\n",
    "H_mat = vertcat(H_mat[3:,:], H_mat[:3,:])\n",
    "H_mat = horzcat(H_mat[:,3:], H_mat[:,:3]).full()\n",
    "H_mat == M_mat"
   ]
  },
  {
   "cell_type": "markdown",
   "metadata": {},
   "source": [
    "<h1>Restoring Forces</h1>"
   ]
  },
  {
   "cell_type": "code",
   "execution_count": 19,
   "metadata": {},
   "outputs": [],
   "source": [
    "res_G = uv_body.body_restoring_vector()\n",
    "res_G_func = Function('G_n', [z, eul, W, B, r_g, r_b], [res_G]) # for numerical & symbolic use"
   ]
  }
 ],
 "metadata": {
  "kernelspec": {
   "display_name": "Python 3",
   "language": "python",
   "name": "python3"
  },
  "language_info": {
   "codemirror_mode": {
    "name": "ipython",
    "version": 3
   },
   "file_extension": ".py",
   "mimetype": "text/x-python",
   "name": "python",
   "nbconvert_exporter": "python",
   "pygments_lexer": "ipython3",
   "version": "3.9.6"
  }
 },
 "nbformat": 4,
 "nbformat_minor": 2
}
