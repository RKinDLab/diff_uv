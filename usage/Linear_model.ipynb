{
 "cells": [
  {
   "cell_type": "code",
   "execution_count": 1,
   "metadata": {},
   "outputs": [],
   "source": [
    "%run base.ipynb"
   ]
  },
  {
   "cell_type": "code",
   "execution_count": 2,
   "metadata": {},
   "outputs": [
    {
     "data": {
      "text/plain": [
       "SX([dx, dy, dz, dphi, dthet, dpsi])"
      ]
     },
     "execution_count": 2,
     "metadata": {},
     "output_type": "execute_result"
    }
   ],
   "source": [
    "dn"
   ]
  },
  {
   "cell_type": "code",
   "execution_count": 3,
   "metadata": {},
   "outputs": [],
   "source": [
    "J_ = Kinematics.J\n",
    "J_inv = Kinematics.J_INV"
   ]
  },
  {
   "cell_type": "code",
   "execution_count": 5,
   "metadata": {},
   "outputs": [],
   "source": [
    "xd = J_@x_nb\n",
    "ode_xdd = uv_body.body_forward_dynamics()\n",
    "\n",
    "rhs = vertcat(xd, ode_xdd) #the complete ODE vector\n",
    "f_rhs = Function('Odefunc', [m, W, B, r_g, r_b, I_o,\n",
    "                           decoupled_added_m, coupled_added_m,\n",
    "                           linear_dc, quadratic_dc,\n",
    "                           x_nb, v_c, eul, tau_b], [rhs])\n",
    "\n",
    "## RETURNS vertcat(p_n ,uq , x_nb)\n",
    "ode = f_rhs(blue.m, blue.W, blue.B, blue.rg, blue.rb, blue.Io, blue.added_m,\n",
    "                       blue.coupl_added_m, blue.linear_dc, blue.quadratic_dc, x_nb, v_c, eul,  tau_b)\n",
    "\n",
    "dt = SX.sym(\"dt\")\n",
    "xS0 = vertcat(n, dn)\n",
    "ode_p = vertcat(dt, v_c, x_nb)\n",
    "\n",
    "# # integrator to discretize the system\n",
    "sys = {}\n",
    "sys['x'] = xS0\n",
    "sys['u'] = tau_b\n",
    "sys['p'] = ode_p\n",
    "sys['ode'] = ode*dt # Time scaling\n",
    "\n",
    "intg = integrator('intg', 'rk', sys, 0, 1 , {'simplify':True, 'number_of_finite_elements':50})\n",
    "\n",
    "res = intg(x0=xS0,u=tau_b, p=ode_p) #evaluate with symbols\n",
    "x_next = res['xf']\n",
    "\n",
    "# x_next[6:] = J_@x_next[6:]"
   ]
  },
  {
   "cell_type": "code",
   "execution_count": 6,
   "metadata": {},
   "outputs": [
    {
     "data": {
      "text/plain": [
       "(12, 1)"
      ]
     },
     "execution_count": 6,
     "metadata": {},
     "output_type": "execute_result"
    }
   ],
   "source": [
    "x_next.size()"
   ]
  },
  {
   "cell_type": "markdown",
   "metadata": {},
   "source": [
    "<h1>Generating discretized state space Linear Model </h1>"
   ]
  },
  {
   "cell_type": "code",
   "execution_count": 4,
   "metadata": {},
   "outputs": [
    {
     "name": "stdout",
     "output_type": "stream",
     "text": [
      "(12, 12)\n",
      "(12, 6)\n"
     ]
    }
   ],
   "source": [
    "states = vertcat(xS0[:6], dn)\n",
    "\n",
    "A = jacobian(x_next, states)\n",
    "print(A.size())\n",
    "\n",
    "B__ = jacobian(x_next, tau_b)\n",
    "print(B__.size())"
   ]
  },
  {
   "cell_type": "code",
   "execution_count": 5,
   "metadata": {},
   "outputs": [],
   "source": [
    "A_nb_func = Function('A_nb', [dt, x_nb, dn, eul, tau_b, v_c],[A])\n",
    "\n",
    "current_vel = [0,0,0,0,0,0] # assuming no current flow\n",
    "\n",
    "A_ = Function('A_', [dt, dn, eul, tau_b],[A_nb_func(dt, J_inv@(dn), dn, eul,tau_b, current_vel)])\n",
    "\n",
    "A__ = A_(dt, dn, eul, tau_b)\n",
    "\n",
    "next_state = A__@states + B__@tau_b\n",
    "\n",
    "x_LTI = Function('LTI', [dt, n, dn, tau_b], [next_state, A__, B__])"
   ]
  },
  {
   "cell_type": "code",
   "execution_count": null,
   "metadata": {},
   "outputs": [],
   "source": []
  }
 ],
 "metadata": {
  "kernelspec": {
   "display_name": "Python 3",
   "language": "python",
   "name": "python3"
  },
  "language_info": {
   "codemirror_mode": {
    "name": "ipython",
    "version": 3
   },
   "file_extension": ".py",
   "mimetype": "text/x-python",
   "name": "python",
   "nbconvert_exporter": "python",
   "pygments_lexer": "ipython3",
   "version": "3.9.6"
  }
 },
 "nbformat": 4,
 "nbformat_minor": 2
}
