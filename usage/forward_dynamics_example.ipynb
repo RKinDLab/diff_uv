{
 "cells": [
  {
   "cell_type": "code",
   "execution_count": 1,
   "metadata": {},
   "outputs": [],
   "source": [
    "%run base.ipynb"
   ]
  },
  {
   "cell_type": "code",
   "execution_count": 2,
   "metadata": {},
   "outputs": [],
   "source": [
    "Jq_ = Kinematics.Jq\n",
    "J_ = Kinematics.J"
   ]
  },
  {
   "cell_type": "code",
   "execution_count": 3,
   "metadata": {},
   "outputs": [],
   "source": [
    "xd = Jq_@x_nb\n",
    "ode_xdd = uv_body.body_forward_dynamics()\n",
    "\n",
    "rhs = vertcat(xd, ode_xdd) #the complete ODE vector\n",
    "f_rhs = Function('Odefunc', [m, W, B, r_g, r_b, I_o,\n",
    "                           decoupled_added_m, coupled_added_m,\n",
    "                           linear_dc, quadratic_dc,\n",
    "                           x_nb, v_c, eul, uq, tau_b], [rhs])\n",
    "\n",
    "## RETURNS vertcat(p_n ,uq , x_nb)\n",
    "ode = f_rhs(ps.m, ps.W, ps.B, ps.rg, ps.rb, ps.Io, ps.added_m,\n",
    "                       ps.coupl_added_m, ps.linear_dc, ps.quadratic_dc, x_nb, v_c, q2euler(uq), uq,  tau_b)\n",
    "\n",
    "xS0 = vertcat(p_n, uq, x_nb)\n",
    "ode_p = vertcat(dt, v_c)\n",
    "\n",
    "# integrator to discretize the system\n",
    "sys = {}\n",
    "sys['x'] = xS0\n",
    "sys['u'] = tau_b\n",
    "sys['p'] = ode_p\n",
    "sys['ode'] = ode*dt # Time scaling\n",
    "\n",
    "intg = integrator('intg', 'rk', sys, 0, 1 , {'simplify':True, 'number_of_finite_elements':5})\n",
    "\n",
    "res = intg(x0=xS0,u=tau_b, p=ode_p) #evaluate with symbols\n",
    "x_next = res['xf']\n",
    "\n",
    "x_next[3:7] = x_next[3:7]/sqrt(x_next[3:7].T@x_next[3:7])  #quaternions requires normalization\n",
    "\n",
    "x_next[9] = if_else(x_next[2] < 0, 0,  x_next[9]) # if vehicle on surface, no more up motion\n",
    "x_next[2] = if_else(x_next[2] < 0, 0,  x_next[2]) # if vehicle on surface, keep on surface and not go up"
   ]
  },
  {
   "cell_type": "code",
   "execution_count": 5,
   "metadata": {},
   "outputs": [],
   "source": [
    "# Simplify API to (x,u)->(x_next)\n",
    "F = Function('Vnext',[xS0, tau_b, dt, v_c],[x_next])\n",
    "\n",
    "T = 10 # time horizon\n",
    "N = 1600 # number of control intervals"
   ]
  },
  {
   "cell_type": "code",
   "execution_count": 5,
   "metadata": {},
   "outputs": [
    {
     "data": {
      "text/plain": [
       "0"
      ]
     },
     "execution_count": 5,
     "metadata": {},
     "output_type": "execute_result"
    }
   ],
   "source": [
    "# c , cpp or matlab code generation for forward dynamics\n",
    "# F.generate(\"Vnext.c\")\n",
    "# os.system(f\"gcc -fPIC -shared Vnext.c -o libVnext.so\")"
   ]
  },
  {
   "cell_type": "code",
   "execution_count": null,
   "metadata": {},
   "outputs": [],
   "source": []
  }
 ],
 "metadata": {
  "kernelspec": {
   "display_name": "Python 3",
   "language": "python",
   "name": "python3"
  },
  "language_info": {
   "codemirror_mode": {
    "name": "ipython",
    "version": 3
   },
   "file_extension": ".py",
   "mimetype": "text/x-python",
   "name": "python",
   "nbconvert_exporter": "python",
   "pygments_lexer": "ipython3",
   "version": "3.9.6"
  }
 },
 "nbformat": 4,
 "nbformat_minor": 2
}
